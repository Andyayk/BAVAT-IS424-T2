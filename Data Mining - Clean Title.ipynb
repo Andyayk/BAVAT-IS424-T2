{
 "cells": [
  {
   "cell_type": "code",
   "execution_count": 71,
   "metadata": {},
   "outputs": [
    {
     "name": "stdout",
     "output_type": "stream",
     "text": [
      "[362154, 262543, 271674, 245906, 281298, 287703, 252444, 277231, 30432, 9503, 26693, 22215, 41009, 34279, 63555, 31900, 51200, 38570, 41179, 73211, 46911, 44716, 50090, 158675, 40911, 57627, 39333, 38883, 44737, 36956, 64786, 52414, 58107, 40025, 40863, 6935, 40415, 35831, 10681, 19173, 13413, 25741, 13506, 14538, 20268, 16061, 8282, 3511, 8281, 16277, 54330, 9736, 140656, 17358, 23619, 82501, 83801, 93188, 98344, 73562, 137145, 106631, 70005, 87558, 59852, 102292, 11452, 23132, 8439, 10605, 18419, 22537, 36593, 11011, 3586, 15097, 39466, 82695, 99770, 86541, 119193, 110323, 127913, 94973, 130736, 116227, 84309, 143800, 98886, 22578, 12456, 107059, 21253, 39385, 110552, 160118, 191294, 168399, 217708, 195276, 167179, 242458, 173301, 226437, 245597, 242575, 217337, 215848, 191718, 268207, 187628, 203793, 203217, 11418, 8202, 1826, 13679, 41508, 8332, 28201, 20969, 26138, 19521, 13739, 7551, 37725, 24180, 15077, 16808, 13754, 2016, 19955, 12555, 8421, 31325, 286, 20605, 11430, 11633, 11540, 39386, 1997, 36592, 11052, 89049, 10271, 59474, 11563, 13614, 21946, 58432, 15069, 13492, 5595, 7862, 2002, 21494, 13045, 13924, 37653, 18725, 43612, 8077, 48150, 2470, 5062, 25468, 48580, 8859, 36897, 10697, 20993, 4415, 37137, 20978, 47647, 56321, 25998, 3009, 46175, 40043]\n"
     ]
    }
   ],
   "source": [
    "from openpyxl import load_workbook\n",
    "import http.client\n",
    "\n",
    "filepath = r\"C:\\Users\\Terence\\Desktop\\10000_weird_id.xlsx\"\n",
    "\n",
    "wb = load_workbook(filepath)\n",
    "\n",
    "sheet = wb.active\n",
    "\n",
    "max_row = sheet.max_row\n",
    "\n",
    "weird_id_list = []\n",
    "\n",
    "for i in range(1, max_row+1):\n",
    "    cell_obj = sheet.cell(row=i, column=1)\n",
    "    \n",
    "    weird_id_list.append(cell_obj.value)\n",
    "    \n",
    "print(weird_id_list)"
   ]
  },
  {
   "cell_type": "code",
   "execution_count": 72,
   "metadata": {},
   "outputs": [],
   "source": [
    "import json\n",
    "\n",
    "wb2 = Workbook()\n",
    "\n",
    "filepath2 = r\"C:\\Users\\Terence\\Desktop\\10000_weird_id_title.xlsx\"\n",
    "\n",
    "wb2 = load_workbook(filepath2)\n",
    "\n",
    "sheet2 = wb2.active\n",
    "\n",
    "conn = http.client.HTTPSConnection(\"api.themoviedb.org\")\n",
    "\n",
    "weird_id_title = []\n",
    "\n",
    "for i in weird_id_list:\n",
    "    empt_title_list = []\n",
    "    #payload = {}\n",
    "    \n",
    "    try:\n",
    "        conn.request(\"GET\", \"/3/movie/\" + str(i) + \"?language=en-US&api_key=026d14dc363088e91f42438d2f73c61c\", payload)\n",
    "\n",
    "        res = conn.getresponse()\n",
    "        data = res.read()\n",
    "        decoded_data = data.decode(\"utf-8\")\n",
    "        ddtopython = json.loads(decoded_data)\n",
    "        empt_title_list.append(ddtopython['title'])\n",
    "        weird_id_title.append(empt_title_list)\n",
    "    except Exception:\n",
    "        empt_title_list.append(\"\")\n",
    "        weird_id_title.append(empt_title_list)\n",
    "    \n",
    "for row in weird_id_title:\n",
    "    sheet2.append(row)\n",
    "    \n",
    "wb2.save(filepath2)"
   ]
  },
  {
   "cell_type": "code",
   "execution_count": null,
   "metadata": {},
   "outputs": [],
   "source": []
  }
 ],
 "metadata": {
  "kernelspec": {
   "display_name": "Python 3",
   "language": "python",
   "name": "python3"
  },
  "language_info": {
   "codemirror_mode": {
    "name": "ipython",
    "version": 3
   },
   "file_extension": ".py",
   "mimetype": "text/x-python",
   "name": "python",
   "nbconvert_exporter": "python",
   "pygments_lexer": "ipython3",
   "version": "3.6.5"
  }
 },
 "nbformat": 4,
 "nbformat_minor": 2
}

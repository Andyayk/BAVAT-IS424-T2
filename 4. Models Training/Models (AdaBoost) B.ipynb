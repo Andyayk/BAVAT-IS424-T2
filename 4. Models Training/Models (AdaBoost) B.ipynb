{
 "cells": [
  {
   "cell_type": "markdown",
   "metadata": {},
   "source": [
    "<h1>Import all libraries and reading explored data into Dataframe</h1>"
   ]
  },
  {
   "cell_type": "code",
   "execution_count": 1,
   "metadata": {
    "ExecuteTime": {
     "end_time": "2018-11-02T13:49:14.197888Z",
     "start_time": "2018-11-02T13:49:12.900261Z"
    }
   },
   "outputs": [],
   "source": [
    "import re\n",
    "import io\n",
    "import time\n",
    "\n",
    "#General libraries needed\n",
    "import numpy as np\n",
    "import pandas as pd\n",
    "import matplotlib.pyplot as plt\n",
    "import seaborn as sns\n",
    "\n",
    "#Libraries for data pre-processing\n",
    "from sklearn.model_selection import train_test_split\n",
    "from sklearn.model_selection import GridSearchCV\n",
    "from sklearn.metrics import confusion_matrix\n",
    "from sklearn.metrics import accuracy_score\n",
    "from sklearn.metrics import f1_score\n",
    "from sklearn import preprocessing\n",
    "\n",
    "#Libraries for data pre-processing (Log Loss)\n",
    "from sklearn.datasets import make_blobs\n",
    "from sklearn.calibration import CalibratedClassifierCV\n",
    "from sklearn.metrics import log_loss\n",
    "\n",
    "#For Decision Tree implementation\n",
    "from scipy.stats import entropy\n",
    "from sklearn.tree import DecisionTreeClassifier\n",
    "from sklearn import tree\n",
    "\n",
    "#For KNN implementation\n",
    "from sklearn.neighbors import KNeighborsClassifier\n",
    "\n",
    "#For Bagging implementation\n",
    "from sklearn.ensemble import BaggingClassifier\n",
    "\n",
    "#For AdaBoost implementation\n",
    "from sklearn.ensemble import AdaBoostClassifier\n",
    "from sklearn.naive_bayes import GaussianNB\n",
    "\n",
    "#For Random Forest implementation\n",
    "from sklearn.ensemble import RandomForestClassifier\n",
    "\n",
    "#For Baseline implementation\n",
    "from sklearn.dummy import DummyClassifier\n",
    "\n",
    "#For Logistic Regression\n",
    "from sklearn.linear_model import LogisticRegression\n",
    "\n",
    "#For Ensemble\n",
    "from sklearn.ensemble import VotingClassifier\n",
    "\n",
    "#Settings\n",
    "%matplotlib inline\n",
    "pd.options.display.float_format = '{:.2f}'.format\n",
    "np.set_printoptions(threshold=np.nan)\n",
    "sns.set()\n",
    "\n",
    "def printModelAccuracy(y_test, y_pred):\n",
    "    # Find the confusion matrix of the result\n",
    "    cm = pd.DataFrame(confusion_matrix(y_test, y_pred, labels=[1, 2, 3, 4, 5]), \\\n",
    "        index=['true:1', 'true:2', 'true:3', 'true:4', 'true:5'], \n",
    "        columns=['pred:1', 'pred:2', 'pred:3', 'pred:4', 'pred:5'])\n",
    "    print(\"Confusion Matrix:\")\n",
    "    print(cm)\n",
    "\n",
    "    # Find the accuracy and F1 score of the result\n",
    "    asr = accuracy_score(y_test, y_pred)\n",
    "    f1 = f1_score(y_test, y_pred, average='micro')\n",
    "    print(\"Accuracy:\", asr)\n",
    "    print(\"F1:\", f1)\n",
    "    \"\"\"\n",
    "    # Log loss\n",
    "    score = log_loss(y_test, y_pred)\n",
    "    print(\"Log Loss:\", score)\n",
    "    \"\"\"\n"
   ]
  },
  {
   "cell_type": "markdown",
   "metadata": {},
   "source": [
    "<h1>AdaBoost (with Decision Tree)</h1>\n",
    "\n",
    "Refer to the following links on for detail explanation on the implementation:\n",
    "- [AdaBoost Classifier SKLearn Documentation](https://scikit-learn.org/stable/modules/generated/sklearn.ensemble.AdaBoostClassifier.html)\n",
    "- [DataCamp Implementation](https://www.datacamp.com/community/tutorials/adaboost-classifier-python)\n",
    "- [Setting Learning Rate and N Estimators](https://stats.stackexchange.com/questions/82323/shrinkage-parameter-in-adaboost)\n",
    "- [Parameter Tuning](https://machinelearningmastery.com/tune-learning-rate-for-gradient-boosting-with-xgboost-in-python/)\n",
    "\n",
    "*Note that the default AdaBoost implementation in SKLearn is Decision Tree \n"
   ]
  },
  {
   "cell_type": "markdown",
   "metadata": {},
   "source": [
    "### Experiment B\n",
    "Textual attributes only"
   ]
  },
  {
   "cell_type": "code",
   "execution_count": 2,
   "metadata": {},
   "outputs": [
    {
     "name": "stdout",
     "output_type": "stream",
     "text": [
      "(3912, 7464)\n",
      "(15648, 7464)\n",
      "(3912, 1)\n",
      "(15648, 1)\n"
     ]
    }
   ],
   "source": [
    "# Read from dataframe\n",
    "X_testB = pd.read_pickle(\"Experiment B Train Test Split/X_test\")\n",
    "X_trainB = pd.read_pickle(\"Experiment B Train Test Split/X_train\")\n",
    "y_testB = pd.read_pickle(\"Experiment B Train Test Split/y_test\")\n",
    "y_trainB = pd.read_pickle(\"Experiment B Train Test Split/y_train\")\n",
    "\n",
    "print(X_testB.shape)\n",
    "print(X_trainB.shape)\n",
    "print(y_testB.shape)\n",
    "print(y_trainB.shape)"
   ]
  },
  {
   "cell_type": "code",
   "execution_count": 8,
   "metadata": {},
   "outputs": [
    {
     "name": "stdout",
     "output_type": "stream",
     "text": [
      "Confusion Matrix:\n",
      "        pred:1  pred:2  pred:3  pred:4  pred:5\n",
      "true:1     380     146     190      53      20\n",
      "true:2     320     167     234      52      29\n",
      "true:3     298      93     265      81      49\n",
      "true:4     261      82     195     146     115\n",
      "true:5     210      60     126     139     201\n",
      "Accuracy: 0.2962678936605317\n",
      "F1: 0.2962678936605317\n",
      "Best Parameters: {'base_estimator__criterion': 'gini', 'base_estimator__max_depth': 9, 'base_estimator__splitter': 'random', 'learning_rate': 0.001, 'n_estimators': 300}\n",
      "16911.255299806595\n"
     ]
    }
   ],
   "source": [
    "start = time.time()\n",
    "\n",
    "#Create the AdaBoost classifier. Default base classifiers is Decision Tree. \n",
    "# - n_estimator is the number of base classifiers (i.e. weak learners)\n",
    "# - learning_rate controls the weight adjustments of each base classifiers. Default is 1\n",
    "# - learning_rate controls the weight adjustments of each base classifiers. Default is 1\n",
    "parametersB = {\"base_estimator__max_depth\" : [9], #list(range(5, 10))\n",
    "              \"base_estimator__criterion\" : [\"gini\"], #[\"gini\", \"entropy\"]\n",
    "              \"base_estimator__splitter\" :   [\"random\"], #[\"best\", \"random\"]\n",
    "              \"n_estimators\": [300], #[50, 100, 300]\n",
    "              \"learning_rate\": [0.001] #[0.001, 0.25, 0.5]\n",
    "             }\n",
    "\n",
    "adaboostTreeB = GridSearchCV(AdaBoostClassifier(DecisionTreeClassifier()), cv=5, param_grid=parametersB)\n",
    "\n",
    "#Fit the training feature Xs and training label Ys\n",
    "adaboostTreeB.fit(X_trainB, y_trainB.values.ravel())\n",
    "\n",
    "#Use the trained model to predict the test data\n",
    "y_predB = adaboostTreeB.predict(X_testB)\n",
    "\n",
    "# Find the confusion matrix, the accuracy, and F1 score of the result\n",
    "printModelAccuracy(y_testB, y_predB)\n",
    "print(\"Best Parameters:\",adaboostTreeB.best_params_)\n",
    "\n",
    "# meansB = adaboostTreeB.cv_results_['mean_test_score']\n",
    "# stdsB = adaboostTreeB.cv_results_['std_test_score']\n",
    "# paramsB = adaboostTreeB.cv_results_['params']\n",
    "# for mean, stdev, param in zip(meansB, stdsB, paramsB):\n",
    "#     print(\"%f (%f) with: %r\" % (mean, stdev, param))\n",
    "\n",
    "end = time.time()\n",
    "print(end - start)"
   ]
  },
  {
   "cell_type": "code",
   "execution_count": null,
   "metadata": {},
   "outputs": [],
   "source": []
  }
 ],
 "metadata": {
  "kernelspec": {
   "display_name": "Python 3",
   "language": "python",
   "name": "python3"
  },
  "language_info": {
   "codemirror_mode": {
    "name": "ipython",
    "version": 3
   },
   "file_extension": ".py",
   "mimetype": "text/x-python",
   "name": "python",
   "nbconvert_exporter": "python",
   "pygments_lexer": "ipython3",
   "version": "3.7.1"
  }
 },
 "nbformat": 4,
 "nbformat_minor": 2
}

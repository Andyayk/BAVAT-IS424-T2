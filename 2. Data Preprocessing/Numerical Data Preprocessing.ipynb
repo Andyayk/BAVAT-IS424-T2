{
 "cells": [
  {
   "cell_type": "markdown",
   "metadata": {},
   "source": [
    "<h1>Procesing tmdb_All_movies.csv (Movies)</h1>"
   ]
  },
  {
   "cell_type": "code",
   "execution_count": 1,
   "metadata": {
    "scrolled": true
   },
   "outputs": [
    {
     "name": "stderr",
     "output_type": "stream",
     "text": [
      "C:\\Users\\andy_\\Anaconda3\\lib\\site-packages\\gensim\\utils.py:1197: UserWarning: detected Windows; aliasing chunkize to chunkize_serial\n",
      "  warnings.warn(\"detected Windows; aliasing chunkize to chunkize_serial\")\n"
     ]
    },
    {
     "name": "stdout",
     "output_type": "stream",
     "text": [
      "Column names are budget, genres, homepage, id, original_language, original_title, overview, popularity, production_companies, production_countries, release_date, revenue, runtime, spoken_languages, status, tagline, title, vote_average, vote_count\n",
      "Processed 23580 lines.\n",
      "     budget      id weekday day month  year   revenue runtime  \\\n",
      "0         0  480024       5  06    10  2017     11100     120   \n",
      "1  17000000  480035       6  06     4  2002  14899417           \n",
      "2         0  480087       2  10    10  2017    450500      20   \n",
      "3         0  480123       2  04    10  1966    721712      30   \n",
      "4         0  480206       3  14     6  2017  17140600      21   \n",
      "5   3500000  480210       7  08    10  2017  95330493      90   \n",
      "6         0  480245       3  11    10  2017      9300           \n",
      "7         0  480285                             63400           \n",
      "8         0  480288                             63400           \n",
      "9         0  480382                              2800      61   \n",
      "\n",
      "                        title vote_average vote_count    weighted_rating  \n",
      "0    What Happened Last Night            0          0                7.0  \n",
      "1                  Away We Go            0          0                7.0  \n",
      "2                     Scratch            0          0                7.0  \n",
      "3                        Time            0          0                7.0  \n",
      "4                  The Hunger            7          2                7.0  \n",
      "5               Truth or Dare          5.1         44  6.996661875099825  \n",
      "6  The Quest of Alain Ducasse          6.3          3  6.999916010078791  \n",
      "7            Head above water            0          0                7.0  \n",
      "8            head above water            0          0                7.0  \n",
      "9                    The Wait            0          0                7.0  \n",
      "\n",
      "Output Success!\n"
     ]
    }
   ],
   "source": [
    "import csv, json, gensim, datetime, time\n",
    "import nltk\n",
    "import re\n",
    "import gensim\n",
    "import numpy as np\n",
    "import pandas as pd\n",
    "from gensim import corpora\n",
    "\n",
    "rowslist = []\n",
    "\n",
    "def readJSON(row, rownumber, list, keyword):\n",
    "    jsonstring = row[rownumber]\n",
    "\n",
    "    jsonobj = json.loads(jsonstring)\n",
    "\n",
    "    for jsonelement in jsonobj:\n",
    "        keywordelement = jsonelement[keyword]       \n",
    "        list.append(keywordelement.lower()) \n",
    "    \n",
    "    return list\n",
    "    \n",
    "#read file\n",
    "with open('tmdb_All_movies.csv', encoding='utf-8') as csv_file: #change accordingly\n",
    "    csv_reader = csv.reader(csv_file, delimiter=',')\n",
    "    line_count = 0\n",
    "    for row in csv_reader:\n",
    "        try:        \n",
    "            if line_count == 0:\n",
    "                print(f'Column names are {\", \".join(row)}')\n",
    "                line_count += 1\n",
    "            else: #if line_count != 1000:\n",
    "                eachnewrow = []\n",
    "\n",
    "                eachnewrow.append(row[0]) #budget\n",
    "\n",
    "                #row[2] homepage removed\n",
    "                eachnewrow.append(row[3]) #id\n",
    "\n",
    "                #row[4] original_language removed\n",
    "                #row[5] original_title removed  \n",
    "                #row[7] popularity removed                  \n",
    "                #row[9] productioncountries\n",
    "                \n",
    "                weekday = \"\"\n",
    "                day = \"\"\n",
    "                month = \"\"\n",
    "                year = \"\"                 \n",
    "\n",
    "                #handle releasedate \n",
    "                if row[10] != \"\":\n",
    "                    d = datetime.datetime.strptime(row[10] ,'%Y-%m-%d')\n",
    "\n",
    "                    weekdayword = d.strftime('%a')\n",
    "                    weekday = time.strptime(weekdayword, '%a').tm_wday + 1\n",
    "\n",
    "                    day = d.strftime('%d')\n",
    "\n",
    "                    monthword = d.strftime('%b')\n",
    "                    month = time.strptime(monthword,'%b').tm_mon\n",
    "\n",
    "                    year = d.strftime('%Y')\n",
    "\n",
    "                eachnewrow.append(weekday) #weekday\n",
    "                eachnewrow.append(day) #day \n",
    "                eachnewrow.append(month) #month\n",
    "                eachnewrow.append(year) #year\n",
    "\n",
    "                eachnewrow.append(row[11]) #revenue\n",
    "                eachnewrow.append(row[12]) #runtime\n",
    "                #row[13] spoken_languages removed  \n",
    "                #row[14] #status removed                     \n",
    "                #row[15] tagline added to overview\n",
    "                eachnewrow.append(row[16]) #title\n",
    "                eachnewrow.append(row[17]) #vote_average\n",
    "                eachnewrow.append(row[18]) #vote_count                  \n",
    "\n",
    "                WR = (float(row[18]) / (float(row[18])+25000)) * float(row[17]) + (25000 / (float(row[18]) + 25000)) * 7.0            \n",
    "\n",
    "                eachnewrow.append(WR) #weighted_rating\n",
    "\n",
    "                rowslist.append(eachnewrow)\n",
    "\n",
    "                line_count += 1\n",
    "        except Exception as e:\n",
    "            print(f'Row: {line_count} has Exception' + str(e))    \n",
    "            line_count += 1          \n",
    "    print(f'Processed {line_count} lines.')   \n",
    "                      \n",
    "tablecolumns = []                      \n",
    "tablecolumns.append(['budget', 'id', 'weekday', 'day', 'month', 'year', 'revenue', 'runtime', \\\n",
    "    'title', 'vote_average', 'vote_count', 'weighted_rating'])\n",
    "                      \n",
    "df = pd.DataFrame(np.array(rowslist), columns=tablecolumns)                      \n",
    "print(df.head(10)) \n",
    "\n",
    "print('\\nOutput Success!')                 "
   ]
  },
  {
   "cell_type": "markdown",
   "metadata": {},
   "source": [
    "<h1>Save to Dataframe</h1>"
   ]
  },
  {
   "cell_type": "code",
   "execution_count": null,
   "metadata": {},
   "outputs": [],
   "source": [
    "df.to_pickle(\"processed_data\")"
   ]
  }
 ],
 "metadata": {
  "kernelspec": {
   "display_name": "Python 3",
   "language": "python",
   "name": "python3"
  },
  "language_info": {
   "codemirror_mode": {
    "name": "ipython",
    "version": 3
   },
   "file_extension": ".py",
   "mimetype": "text/x-python",
   "name": "python",
   "nbconvert_exporter": "python",
   "pygments_lexer": "ipython3",
   "version": "3.7.1"
  }
 },
 "nbformat": 4,
 "nbformat_minor": 2
}

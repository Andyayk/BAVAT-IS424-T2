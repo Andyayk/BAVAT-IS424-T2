{
 "cells": [
  {
   "cell_type": "code",
   "execution_count": 55,
   "metadata": {},
   "outputs": [
    {
     "name": "stdout",
     "output_type": "stream",
     "text": [
      "[7096, 50942, 24269, 31622, 300589, 8677, 201281, 2670, 25610, 89049, 365806]\n"
     ]
    }
   ],
   "source": [
    "from openpyxl import load_workbook\n",
    "\n",
    "filepath=r\"C:\\Users\\Terence\\Desktop\\10000_id.xlsx\"\n",
    "\n",
    "wb=load_workbook(filepath)\n",
    "\n",
    "sheetopen = wb.active\n",
    "\n",
    "max_row = sheetopen.max_row\n",
    "\n",
    "id_list = []\n",
    "\n",
    "for i in range(1, max_row+1):\n",
    "    cell_obj = sheetopen.cell(row=i,column=1)\n",
    "    \n",
    "    id_list.append(cell_obj.value)\n",
    "    \n",
    "print(id_list)"
   ]
  },
  {
   "cell_type": "code",
   "execution_count": 56,
   "metadata": {},
   "outputs": [],
   "source": [
    "from openpyxl import Workbook\n",
    "import http.client\n",
    "\n",
    "wb = Workbook()\n",
    "\n",
    "filepath=r\"C:\\Users\\Terence\\Desktop\\10000_credits.xlsx\"\n",
    "\n",
    "wb = load_workbook(filepath)\n",
    "\n",
    "sheet = wb.active\n",
    "conn = http.client.HTTPSConnection(\"api.themoviedb.org\")\n",
    "\n",
    "big_list = []\n",
    "\n",
    "for i in id_list:\n",
    "    #payload = \"{}\"\n",
    "    empt_list = []\n",
    "    \n",
    "    try:\n",
    "        conn.request(\"GET\", \"/3/movie/\" + str(i) + \"/credits?api_key=026d14dc363088e91f42438d2f73c61c\", payload)\n",
    "\n",
    "        res = conn.getresponse()\n",
    "        data = res.read()\n",
    "        #print(data.decode(\"utf-8\"))\n",
    "        empt_list.append(data.decode(\"utf-8\"))\n",
    "        big_list.append(empt_list)\n",
    "    except Exception:\n",
    "        empt_list.append(\"\")\n",
    "        big_list.append(empt_list)\n",
    "\n",
    "for row in big_list:\n",
    "    sheet.append(row)\n",
    "\n",
    "wb.save(filepath)"
   ]
  },
  {
   "cell_type": "code",
   "execution_count": null,
   "metadata": {},
   "outputs": [],
   "source": []
  }
 ],
 "metadata": {
  "kernelspec": {
   "display_name": "Python 3",
   "language": "python",
   "name": "python3"
  },
  "language_info": {
   "codemirror_mode": {
    "name": "ipython",
    "version": 3
   },
   "file_extension": ".py",
   "mimetype": "text/x-python",
   "name": "python",
   "nbconvert_exporter": "python",
   "pygments_lexer": "ipython3",
   "version": "3.6.5"
  }
 },
 "nbformat": 4,
 "nbformat_minor": 2
}

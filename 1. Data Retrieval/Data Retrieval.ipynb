{
 "cells": [
  {
   "cell_type": "markdown",
   "metadata": {},
   "source": [
    "<h1>Reading Movie IDs into a List</h1>"
   ]
  },
  {
   "cell_type": "code",
   "execution_count": 8,
   "metadata": {},
   "outputs": [
    {
     "name": "stdout",
     "output_type": "stream",
     "text": [
      "[15724, 23331, 35423, 36606, 57461, 59655, 59900, 62181]\n",
      "\n",
      "Output Success!\n"
     ]
    }
   ],
   "source": [
    "from openpyxl import load_workbook\n",
    "\n",
    "filepath=r\"C:\\Jupyter\\BAVAT-IS424-T2\\1. Data Retrieval\\movies_id.xlsx\" #change accordingly\n",
    "\n",
    "wb=load_workbook(filepath)\n",
    "\n",
    "sheetopen = wb.active\n",
    "\n",
    "max_row = sheetopen.max_row\n",
    "\n",
    "id_list = []\n",
    "\n",
    "for i in range(2, 10):#max_row+1): #read from second row\n",
    "    cell_obj = sheetopen.cell(row=i,column=1)\n",
    "    \n",
    "    id_list.append(cell_obj.value)\n",
    "    \n",
    "print(id_list)\n",
    "print('\\nOutput Success!')   "
   ]
  },
  {
   "cell_type": "markdown",
   "metadata": {},
   "source": [
    "<h1>Retrieving Data from Movie Database API (Movies)</h1>"
   ]
  },
  {
   "cell_type": "code",
   "execution_count": 9,
   "metadata": {},
   "outputs": [
    {
     "name": "stdout",
     "output_type": "stream",
     "text": [
      "0\n",
      "1\n",
      "2\n",
      "3\n",
      "4\n",
      "5\n",
      "6\n",
      "7\n",
      "\n",
      "Output Success!\n"
     ]
    }
   ],
   "source": [
    "import requests, json\n",
    "\n",
    "counter = 0\n",
    "\n",
    "columns = \"\"\n",
    "big_list = []\n",
    "\n",
    "for i in id_list:\n",
    "    #payload = \"{}\"\n",
    "    empt_list = []\n",
    "    \n",
    "    try:       \n",
    "        url = \"https://api.themoviedb.org/3/movie/\" + str(i) + \"?api_key=026d14dc363088e91f42438d2f73c61c&language=en-US\"\n",
    "\n",
    "        payload = \"{}\"\n",
    "        response = requests.request(\"GET\", url, data=payload)\n",
    "        \n",
    "        jsonobj = json.loads(response.text)\n",
    "\n",
    "        if counter == 1:\n",
    "            columns = list(jsonobj.keys())\n",
    "        \n",
    "        big_list.append(list(jsonobj.values()))\n",
    "\n",
    "        print(counter)\n",
    "\n",
    "        counter += 1        \n",
    "    except Exception:\n",
    "        print(\"Exception\")\n",
    "\n",
    "print('\\nOutput Success!')"
   ]
  },
  {
   "cell_type": "markdown",
   "metadata": {},
   "source": [
    "<h1>Writes to Movie Data CSV</h1>"
   ]
  },
  {
   "cell_type": "code",
   "execution_count": 10,
   "metadata": {},
   "outputs": [
    {
     "name": "stdout",
     "output_type": "stream",
     "text": [
      "\n",
      "Output Success!\n"
     ]
    }
   ],
   "source": [
    "import csv\n",
    "\n",
    "with open('tmdb_10000_movies.csv', mode='w', newline='', encoding='utf-8') as movies_file:\n",
    "    writer = csv.writer(movies_file, delimiter=',', quotechar='\"', quoting=csv.QUOTE_MINIMAL)\n",
    "\n",
    "    writer.writerow(columns[3:7] + columns[8:12] + columns[13:22] + columns[23:25])\n",
    "\n",
    "    for eachrow in big_list:\n",
    "        if len(eachrow) >=5: #skipped movies that are not able to be retrieved\n",
    "            genres = []\n",
    "            genres.append(json.dumps(eachrow[4], separators=(',',':')))\n",
    "            \n",
    "            production_companies = []\n",
    "            production_companies.append(json.dumps(eachrow[13], separators=(',',':')))\n",
    "            \n",
    "            production_countries = []\n",
    "            production_countries.append(json.dumps(eachrow[14], separators=(',',':')))            \n",
    "\n",
    "            writer.writerow(eachrow[3:4] + genres + eachrow[5:7] + eachrow[8:12] + production_companies + production_countries + eachrow[15:22] + eachrow[23:25])     \n",
    "\n",
    "    print('\\nOutput Success!')    "
   ]
  },
  {
   "cell_type": "markdown",
   "metadata": {},
   "source": [
    "<h1>Retrieving Data from Movie Database API (Credits)</h1>"
   ]
  },
  {
   "cell_type": "code",
   "execution_count": 4,
   "metadata": {},
   "outputs": [
    {
     "name": "stdout",
     "output_type": "stream",
     "text": [
      "0\n",
      "1\n",
      "2\n",
      "3\n",
      "4\n",
      "5\n",
      "6\n",
      "7\n",
      "\n",
      "Output Success!\n"
     ]
    }
   ],
   "source": [
    "import requests, json\n",
    "\n",
    "counter2 = 0\n",
    "\n",
    "columns2 = \"\"\n",
    "big_list2 = []\n",
    "\n",
    "for i in id_list:\n",
    "    #payload = \"{}\"\n",
    "    empt_list = []\n",
    "    \n",
    "    try:       \n",
    "        url = \"https://api.themoviedb.org/3/movie/\" + str(i) + \"/credits?api_key=026d14dc363088e91f42438d2f73c61c\"\n",
    "\n",
    "        payload = \"{}\"\n",
    "        response = requests.request(\"GET\", url, data=payload)\n",
    "        \n",
    "        jsonobj = json.loads(response.text)\n",
    "\n",
    "        if counter2 == 1:\n",
    "            columns2 = list(jsonobj.keys())\n",
    "            \n",
    "        big_list2.append(list(jsonobj.values()))\n",
    "        \n",
    "        print(counter2)\n",
    "\n",
    "        counter2 += 1        \n",
    "    except Exception:\n",
    "        print(\"Exception\")\n",
    "\n",
    "print('\\nOutput Success!')"
   ]
  },
  {
   "cell_type": "markdown",
   "metadata": {},
   "source": [
    "<h1>Writes to Credits Data CSV</h1>"
   ]
  },
  {
   "cell_type": "code",
   "execution_count": 7,
   "metadata": {},
   "outputs": [
    {
     "name": "stdout",
     "output_type": "stream",
     "text": [
      "\n",
      "Output Success!\n"
     ]
    }
   ],
   "source": [
    "import csv\n",
    "\n",
    "with open('tmdb_10000_credits.csv', mode='w', newline='', encoding='utf-8') as credits_file:\n",
    "    writer2 = csv.writer(credits_file, delimiter=',', quotechar='\"', quoting=csv.QUOTE_MINIMAL)\n",
    "\n",
    "    writer2.writerow(columns2)\n",
    "\n",
    "    for eachrow in big_list2:\n",
    "        if len(eachrow) >=3: #skipped movies that are not able to be retrieved\n",
    "            cast = []\n",
    "            cast.append(json.dumps(eachrow[1], separators=(',',':')))\n",
    "\n",
    "            crew = []\n",
    "            crew.append(json.dumps(eachrow[2], separators=(',',':')))\n",
    "\n",
    "            writer2.writerow(eachrow[0:1] + cast + crew)     \n",
    "    \n",
    "    print('\\nOutput Success!')    "
   ]
  }
 ],
 "metadata": {
  "kernelspec": {
   "display_name": "Python 3",
   "language": "python",
   "name": "python3"
  },
  "language_info": {
   "codemirror_mode": {
    "name": "ipython",
    "version": 3
   },
   "file_extension": ".py",
   "mimetype": "text/x-python",
   "name": "python",
   "nbconvert_exporter": "python",
   "pygments_lexer": "ipython3",
   "version": "3.7.1"
  }
 },
 "nbformat": 4,
 "nbformat_minor": 2
}
